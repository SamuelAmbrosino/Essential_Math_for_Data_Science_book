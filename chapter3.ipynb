{
 "cells": [
  {
   "cell_type": "markdown",
   "id": "4d3ae884-da86-4c96-98a4-39a2f94a5016",
   "metadata": {},
   "source": [
    "### Exercise 1:\n",
    "You bought a spool of 1.75 mm filament for your 3D printer. You want to measure how close the filament diameter really is to 1.75 mm. \n",
    "You use a caliper tool and sample the diameter five times on the spool: 1.78, 1.75, 1.72, 1.74, 1.77.\n",
    "Calculate the mean and standard deviation for this set of values."
   ]
  },
  {
   "cell_type": "markdown",
   "id": "2cfd659e-28f0-4524-b8ac-937bf4701905",
   "metadata": {},
   "source": [
    "### Solution 1"
   ]
  },
  {
   "cell_type": "code",
   "execution_count": 4,
   "id": "4b885853-a2c6-4f73-b765-943df9f3f103",
   "metadata": {},
   "outputs": [
    {
     "name": "stdout",
     "output_type": "stream",
     "text": [
      "Mean diameter: 1.7520 mm\n",
      "Standard deviation: 0.0239 mm\n"
     ]
    }
   ],
   "source": [
    "import numpy as np\n",
    "\n",
    "# Sampled filament diameters (in mm)\n",
    "diameters = np.array([1.78, 1.75, 1.72, 1.74, 1.77])\n",
    "\n",
    "# Calculate mean\n",
    "mean_diameter = np.mean(diameters)\n",
    "\n",
    "# Calculate standard deviation (using ddof=1 for sample standard deviation)\n",
    "std_deviation = np.std(diameters, ddof=1)\n",
    "\n",
    "# Display results\n",
    "print(f\"Mean diameter: {mean_diameter:.4f} mm\")\n",
    "print(f\"Standard deviation: {std_deviation:.4f} mm\")"
   ]
  },
  {
   "cell_type": "markdown",
   "id": "35046588-f532-49db-aa7b-02ea4744c902",
   "metadata": {},
   "source": [
    "### Exercise 2:\n",
    "A manufacturer says the Z-Phone smart phone has a mean consumer life of 42 months with a standard deviation of 8 months. Assuming a normal distribution, what is the probability a given random Z-Phone will last between 20 and 30\n",
    "months?"
   ]
  },
  {
   "cell_type": "markdown",
   "id": "962a6bb1-072c-4092-b8ee-126c19266515",
   "metadata": {},
   "source": [
    "### Solution 2"
   ]
  },
  {
   "cell_type": "code",
   "execution_count": 11,
   "id": "44543716-71f7-46a8-a8ef-ae46ad06dd0f",
   "metadata": {},
   "outputs": [
    {
     "name": "stdout",
     "output_type": "stream",
     "text": [
      "Probability that a Z-Phone lasts between 20 and 30 months: 0.0638\n"
     ]
    }
   ],
   "source": [
    "from scipy.stats import *\n",
    "\n",
    "# Given data\n",
    "mean_life = 42  # Mean consumer life in months\n",
    "std_dev = 8  # Standard deviation in months\n",
    "lower_bound = 20 # Lower bound\n",
    "upper_bound = 30 # Upper bound\n",
    "\n",
    "# Compute cumulative probabilities\n",
    "p_lower = norm.cdf(lower_bound, mean_life, std_dev)  # P(X < 20)\n",
    "p_upper = norm.cdf(upper_bound, mean_life, std_dev)  # P(X < 30)\n",
    "\n",
    "# Probability that the phone lasts between 20 and 30 months\n",
    "probability_between = p_upper - p_lower # P(X < 30) - P(X < 20) \n",
    "\n",
    "# Display result\n",
    "print(f\"Probability that a Z-Phone lasts between 20 and 30 months: {probability_between:.4f}\")"
   ]
  },
  {
   "cell_type": "markdown",
   "id": "38fdbab3-0981-4a63-92fb-9e1fd296a62a",
   "metadata": {},
   "source": [
    "### Exercise 3: \n",
    "I am skeptical that my 3D printer filament is not 1.75 mm in average diameter as advertised. I sampled 34 measurements with my tool. The sample mean is 1.715588 and the sample standard deviation is 0.029252.\n",
    "What is the 99% confidence interval for the mean of my entire spool of filament?\n"
   ]
  },
  {
   "cell_type": "markdown",
   "id": "601ab344-67db-4989-9129-57e1a810c967",
   "metadata": {},
   "source": [
    "### Solution 3"
   ]
  },
  {
   "cell_type": "code",
   "execution_count": 16,
   "id": "1f81e7d4-f7e2-4a56-99da-bc46094a5668",
   "metadata": {},
   "outputs": [
    {
     "name": "stdout",
     "output_type": "stream",
     "text": [
      "99% Confidence Interval: (1.7019, 1.7293) mm\n"
     ]
    }
   ],
   "source": [
    "import scipy.stats as stats\n",
    "import numpy as np\n",
    "\n",
    "# Given data\n",
    "sample_mean = 1.715588  # Sample mean diameter\n",
    "sample_std = 0.029252  # Sample standard deviation\n",
    "n = 34  # Sample size\n",
    "confidence_level = 0.99  # 99% confidence interval\n",
    "\n",
    "# Compute the t-critical value (Population std is unknown, so we use t-distribution)\n",
    "t_critical = stats.t.ppf((1 + confidence_level) / 2, df=n-1)  # Two-tailed test\n",
    "\n",
    "# Compute margin of error\n",
    "margin_of_error = t_critical * (sample_std / np.sqrt(n))\n",
    "\n",
    "# Compute confidence interval\n",
    "lower_bound = sample_mean - margin_of_error\n",
    "upper_bound = sample_mean + margin_of_error\n",
    "\n",
    "# Display results\n",
    "print(f\"99% Confidence Interval: ({lower_bound:.4f}, {upper_bound:.4f}) mm\")"
   ]
  },
  {
   "cell_type": "markdown",
   "id": "f3d073ea-237c-42df-bf82-925b1332b855",
   "metadata": {},
   "source": [
    "### Exercise 4: \n",
    "Your marketing department has started a new advertising campaign and wants to know if it affected sales, which in the past averaged \\\\$10345 a day with a standard deviation of \\\\$552. The new advertising campaign ran for 45 days and averaged \\\\$11,641 in sales. Did the campaign affect sales? Why or why not? (Use a two-tailed test for more reliable significance.) "
   ]
  },
  {
   "cell_type": "markdown",
   "id": "4d5b833a-7314-4725-8b4d-4f14f87ae32d",
   "metadata": {},
   "source": [
    "### Solution 4:"
   ]
  },
  {
   "cell_type": "code",
   "execution_count": 87,
   "id": "9f9390c9-7a8b-4191-80f9-944bcf3e1503",
   "metadata": {},
   "outputs": [
    {
     "name": "stdout",
     "output_type": "stream",
     "text": [
      "Two-tailed P-value 6.9012061337647825e-56\n",
      "Passes two-tailed test\n"
     ]
    }
   ],
   "source": [
    "from scipy.stats import *\n",
    "import numpy as np\n",
    "\n",
    "# Given data\n",
    "mean = 10345 # Mean\n",
    "std_dev = 552 # Standard deviation\n",
    "sample_mean = 11641  # New sample mean\n",
    "n = 45  # Sample size\n",
    "\n",
    "# Compute the standard error\n",
    "se = std_dev / np.sqrt(n)\n",
    "\n",
    "# Compute z-score\n",
    "z_score = (sample_mean - mean) / se\n",
    "\n",
    "# Compute the p-value\n",
    "p1 = norm.sf(abs(z_score))  # One-tailed probability\n",
    "p_value = 2 * p1\n",
    "\n",
    "print(\"Two-tailed P-value\", p_value)\n",
    "if p_value <= .05:\n",
    "    print(\"Passes two-tailed test\")\n",
    "else:\n",
    "    print(\"Fails two-tailed test\")\n",
    "\n",
    "# The solution provided by the book is different. It doesn't calculate the z_score using the standard error."
   ]
  }
 ],
 "metadata": {
  "kernelspec": {
   "display_name": "Python [conda env:base] *",
   "language": "python",
   "name": "conda-base-py"
  },
  "language_info": {
   "codemirror_mode": {
    "name": "ipython",
    "version": 3
   },
   "file_extension": ".py",
   "mimetype": "text/x-python",
   "name": "python",
   "nbconvert_exporter": "python",
   "pygments_lexer": "ipython3",
   "version": "3.12.2"
  }
 },
 "nbformat": 4,
 "nbformat_minor": 5
}
