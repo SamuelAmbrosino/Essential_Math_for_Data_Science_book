{
 "cells": [
  {
   "cell_type": "code",
   "execution_count": 63,
   "id": "7f59922b-4e37-49a1-b7fa-9b15d0a06de4",
   "metadata": {},
   "outputs": [
    {
     "name": "stdout",
     "output_type": "stream",
     "text": [
      "Training set score: 0.500000\n",
      "Test set score: 0.388889\n",
      "Confusion Matrix:\n",
      "[[ 0 11]\n",
      " [ 0  7]]\n"
     ]
    }
   ],
   "source": [
    "import pandas as pd\n",
    "from sklearn.metrics import confusion_matrix\n",
    "from sklearn.model_selection import train_test_split\n",
    "from sklearn.neural_network import MLPClassifier\n",
    "\n",
    "# Load dataset\n",
    "df = pd.read_csv(\"dataset_chapter7.csv\", delimiter=\",\")\n",
    "\n",
    "# We extract variables x & y. Data in x is from all rows and all columns except the last one and data in y is from all rows and last column.\n",
    "X = df.iloc[:, :-1].values  # All columns except the last\n",
    "y = df.iloc[:, -1].values   # Only the last column\n",
    "\n",
    "# Split data into training and testing sets (1/3 for testing)\n",
    "X_train, X_test, y_train, y_test = train_test_split(X, y, test_size=1/3, random_state=42)\n",
    "\n",
    "# Define and train the neural network\n",
    "nn = MLPClassifier(\n",
    "    solver=\"sgd\",\n",
    "    hidden_layer_sizes=(3,),\n",
    "    activation=\"relu\",\n",
    "    max_iter=100_000,\n",
    "    learning_rate_init=0.05\n",
    ")\n",
    "nn.fit(X_train, y_train)\n",
    "\n",
    "# Evaluate the model\n",
    "train_score = nn.score(X_train, y_train)\n",
    "test_score = nn.score(X_test, y_test)\n",
    "\n",
    "print(f\"Training set score: {train_score:.6f}\")\n",
    "print(f\"Test set score: {test_score:.6f}\")\n",
    "\n",
    "# Compute and display the confusion matrix\n",
    "conf_matrix = confusion_matrix(y_true=y_test, y_pred=nn.predict(X_test))\n",
    "print(\"Confusion Matrix:\")\n",
    "print(conf_matrix)"
   ]
  }
 ],
 "metadata": {
  "kernelspec": {
   "display_name": "Python [conda env:base] *",
   "language": "python",
   "name": "conda-base-py"
  },
  "language_info": {
   "codemirror_mode": {
    "name": "ipython",
    "version": 3
   },
   "file_extension": ".py",
   "mimetype": "text/x-python",
   "name": "python",
   "nbconvert_exporter": "python",
   "pygments_lexer": "ipython3",
   "version": "3.12.2"
  }
 },
 "nbformat": 4,
 "nbformat_minor": 5
}
