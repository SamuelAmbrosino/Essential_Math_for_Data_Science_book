{
 "cells": [
  {
   "cell_type": "markdown",
   "id": "f17d99b96b2d167",
   "metadata": {
    "jp-MarkdownHeadingCollapsed": true
   },
   "source": [
    "### Exercise 1:\n",
    "Perform a logistic regression on the preceding data, using three-fold cross-validation and accuracy as your metric."
   ]
  },
  {
   "cell_type": "markdown",
   "id": "d0d201e8948c7376",
   "metadata": {},
   "source": [
    "### Solution 1"
   ]
  },
  {
   "cell_type": "code",
   "execution_count": 56,
   "id": "bb7ca9c2d9d1bf70",
   "metadata": {},
   "outputs": [
    {
     "name": "stdout",
     "output_type": "stream",
     "text": [
      "Accuracy Mean: 1.000 (stdev = 0.000)\n"
     ]
    }
   ],
   "source": [
    "import pandas as pd\n",
    "from sklearn.linear_model import LogisticRegression\n",
    "from sklearn.metrics import confusion_matrix\n",
    "from sklearn.model_selection import KFold, cross_val_score\n",
    "\n",
    "# Load the data\n",
    "df = pd.read_csv(\"dataset_chapter6.csv\", delimiter=\",\")\n",
    "\n",
    "X = df.values[:, :-1]\n",
    "Y = df.values[:, -1]\n",
    "\n",
    "kfold = KFold(n_splits=3, shuffle=True)\n",
    "model = LogisticRegression(penalty=None)\n",
    "results = cross_val_score(model, X, Y, cv=kfold)\n",
    "print( \"Accuracy Mean: %.3f (stdev = %.3f)\" % (results.mean(),results.std()))"
   ]
  },
  {
   "cell_type": "markdown",
   "id": "f868400d-ae07-4099-a905-3c567599c1e9",
   "metadata": {
    "jp-MarkdownHeadingCollapsed": true
   },
   "source": [
    "### Exercise 2:\n",
    "Produce a confusion matrix comparing the predictions and actual data."
   ]
  },
  {
   "cell_type": "markdown",
   "id": "84498649-60f5-4fb0-a59d-96a577fa947c",
   "metadata": {},
   "source": [
    "### Solution 2"
   ]
  },
  {
   "cell_type": "code",
   "execution_count": 43,
   "id": "096394c4-64f0-4834-a10f-5e25615f2e57",
   "metadata": {},
   "outputs": [
    {
     "name": "stdout",
     "output_type": "stream",
     "text": [
      "[[162   6]\n",
      " [  0 276]]\n"
     ]
    }
   ],
   "source": [
    "import pandas as pd\n",
    "from sklearn.linear_model import LogisticRegression\n",
    "from sklearn.metrics import confusion_matrix\n",
    "from sklearn.model_selection import train_test_split\n",
    "\n",
    "# Laod dataset\n",
    "df = pd.read_csv(\"dataset_chapter6.csv\", delimiter=\",\")\n",
    "\n",
    "# We extract variables x & y. Data in x is from all rows and all columns except the last one and data in y is from all rows and last column.\n",
    "X = df. values[:, :-1]\n",
    "Y = df.values[:, -1]\n",
    "\n",
    "model = LogisticRegression(solver='liblinear')\n",
    "\n",
    "#Remember that we use test_size = 0.33 because 1/3 of the data is set aside for testing and the other 2/3 is used for training.\n",
    "\n",
    "X_train, X_test, Y_train, Y_test = train_test_split(X, Y, test_size=0.33)\n",
    "model.fit(X_train, Y_train)\n",
    "prediction = model.predict(X_test)\n",
    "\n",
    "\n",
    "\"\"\"\n",
    "The confusion matrix structure is:\n",
    "\n",
    "[[true_positives false_negatives]\n",
    "[false_positives true_negatives]]\n",
    "\n",
    "The elements true_positives and true_negatives represents correct predictions, the higher are those numbers the better.\n",
    "\"\"\"\n",
    "\n",
    "matrix = confusion_matrix(y_true=Y_test, y_pred=prediction)\n",
    "print(matrix)"
   ]
  },
  {
   "cell_type": "markdown",
   "id": "141b3b94-9097-4e88-a7af-3614cb59dd10",
   "metadata": {},
   "source": [
    "### Exercise 3:\n",
    "Pick a few different background colors (you can use an RGB tool like this one) and see if the logistic regression sensibly chooses a light (0) or dark (1) font for each one."
   ]
  },
  {
   "cell_type": "markdown",
   "id": "45c0ff5c-7c7d-4ed7-a2d9-420f6da6f139",
   "metadata": {},
   "source": [
    "### Solution 3"
   ]
  },
  {
   "cell_type": "code",
   "execution_count": 45,
   "id": "f71232bc-87dd-4c19-b080-2ac1b19ee936",
   "metadata": {},
   "outputs": [
    {
     "name": "stdin",
     "output_type": "stream",
     "text": [
      "Input a color {red}, {green}, {blue}:  0,0,0\n"
     ]
    },
    {
     "name": "stdout",
     "output_type": "stream",
     "text": [
      "LIGHT\n"
     ]
    }
   ],
   "source": [
    "import pandas as pd\n",
    "from sklearn. linear_model import LogisticRegression\n",
    "import numpy as np\n",
    "from sklearn.model_selection import train_test_split\n",
    "\n",
    "# Load dataset\n",
    "df = pd.read_csv(\"dataset_chapter6.csv\", delimiter=\",\")\n",
    "\n",
    "# We extract variables x & y. Data in x is from all rows and all columns except the last one and data in y is from all rows and last column.\n",
    "X = df.values[:, :-1]\n",
    "Y = df.values[:, -1]\n",
    "\n",
    "model = LogisticRegression(solver='liblinear')\n",
    "\n",
    "#Remember that we use test_size = 0.33 because 1/3 of the data is set aside for testing and the other 2/3 is used for training.\n",
    "X_train, X_test, Y_train, Y_test = train_test_split(X, Y, test_size=.33)\n",
    "model.fit(X_train, Y_train)\n",
    "prediction = model.predict(X_test)\n",
    "\n",
    "# Test a prediction\n",
    "n = input(\"Input a color (red, green, blue): \")\n",
    "(r, g, b) = n.split(\",\")\n",
    "x = model.predict(np.array([[int(r), int(g), int(b)]]))\n",
    "if model.predict(np.array([[int(r), int(g), int(b)]]))[0] == 0.0:\n",
    "    print(\"LIGHT\")\n",
    "else:\n",
    "    print(\"DARK\")"
   ]
  },
  {
   "cell_type": "markdown",
   "id": "62243b63-f2ac-402b-a849-266a32ab4ead",
   "metadata": {},
   "source": [
    "### Exercise 4:\n",
    "Based on the preceding exercises, do you think logistic regression is effective for predicting a light or dark font for a given background color?"
   ]
  },
  {
   "cell_type": "markdown",
   "id": "3d7e027e-a313-4012-8321-03029e013403",
   "metadata": {},
   "source": [
    "### Solution 4: "
   ]
  },
  {
   "cell_type": "markdown",
   "id": "5a6039e3-960d-4ec5-b598-ff21660b7fd4",
   "metadata": {},
   "source": [
    "Yes logitic regression is effective.\n",
    "\n",
    "As we saw in the first exercise the accuracy is very high.\n",
    "\n",
    "And as we saw in the third exercise the true_positives and true_negatives are high, and the false_positives and false_negatives are low."
   ]
  }
 ],
 "metadata": {
  "kernelspec": {
   "display_name": "Python [conda env:base] *",
   "language": "python",
   "name": "conda-base-py"
  },
  "language_info": {
   "codemirror_mode": {
    "name": "ipython",
    "version": 3
   },
   "file_extension": ".py",
   "mimetype": "text/x-python",
   "name": "python",
   "nbconvert_exporter": "python",
   "pygments_lexer": "ipython3",
   "version": "3.12.2"
  }
 },
 "nbformat": 4,
 "nbformat_minor": 5
}
