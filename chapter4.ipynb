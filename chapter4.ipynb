{
 "cells": [
  {
   "cell_type": "markdown",
   "id": "9167e33e-9584-4a56-83e9-54da0c922f6f",
   "metadata": {
    "jp-MarkdownHeadingCollapsed": true
   },
   "source": [
    "### Exercise 1:\n",
    "Vector $\\vec{v}$ has a value of $[1, 2]$ but then a transformation happens.\n",
    "$\\hat{i}$ lands at $[2, 0]$ and $\\vec{j}$ lands at $[0, 1.5]$. Where does $\\vec{v}$ land?"
   ]
  },
  {
   "cell_type": "markdown",
   "id": "9495e005-fbc9-424c-a638-48117ae17a06",
   "metadata": {},
   "source": [
    "### Solution 1"
   ]
  },
  {
   "cell_type": "code",
   "execution_count": 110,
   "id": "5765d405-3f32-461c-ab80-094ce32b4c76",
   "metadata": {},
   "outputs": [
    {
     "name": "stdout",
     "output_type": "stream",
     "text": [
      "Vector lands on:\n",
      "[2. 3.]\n"
     ]
    }
   ],
   "source": [
    "import numpy as np\n",
    "\n",
    "# Tthe original vector v\n",
    "v = np.array([1, 2])\n",
    "\n",
    "# The transformation matrix A\n",
    "x = np.array([2, 0])\n",
    "y = np.array([0, 1.5])\n",
    "\n",
    "vec = np.array([x,y])\n",
    "\n",
    "# The transformed vector v'\n",
    "v_transformed = vec.dot(v)\n",
    "\n",
    "# Print the result\n",
    "print(\"Vector lands on:\")\n",
    "print(v_transformed)"
   ]
  },
  {
   "cell_type": "markdown",
   "id": "4a1035c7-05ff-454b-b472-d17ec0dc838b",
   "metadata": {},
   "source": [
    "### Exercise 2:\n",
    "Vector $\\vec{v}$ has a value of $[1, 2]$ but then a transformation happens.\n",
    "$\\hat{i}$ lands at $[-2, 1]$ and $\\vec{j}$ lands at $[1, -2]$. Where does $\\vec{v}$ land?"
   ]
  },
  {
   "cell_type": "markdown",
   "id": "d46cb0a1-8673-42f9-b1b1-9dcedefb6236",
   "metadata": {},
   "source": [
    "### Solution 2"
   ]
  },
  {
   "cell_type": "code",
   "execution_count": 45,
   "id": "895a3920-4db7-4db9-ab2e-b91f151dbbf6",
   "metadata": {},
   "outputs": [
    {
     "name": "stdout",
     "output_type": "stream",
     "text": [
      "Vector lands on:\n",
      "[ 0 -3]\n"
     ]
    }
   ],
   "source": [
    "import numpy as np\n",
    "\n",
    "# Tthe original vector v\n",
    "v = np.array([1, 2])\n",
    "\n",
    "# The transformation matrix A\n",
    "x = np.array([-2, 1])\n",
    "y = np.array([1, -2])\n",
    "\n",
    "vec = np.array([x,y])\n",
    "\n",
    "# The transformed vector v'\n",
    "v_transformed = vec.dot(v)\n",
    "\n",
    "# Print the result\n",
    "print(\"Vector lands on:\")\n",
    "print(v_transformed)"
   ]
  },
  {
   "cell_type": "markdown",
   "id": "806d5337-0c96-4c8c-b894-caf0e0c1cd15",
   "metadata": {},
   "source": [
    "### Exercise 3:\n",
    "A transformation $\\hat{i}$ lands at $[1,0]$ and $\\hat{j}$ lands at $[2,2]$. What is the determinant of this transformation?"
   ]
  },
  {
   "cell_type": "markdown",
   "id": "c111284d-d2ab-4ecd-9e6e-fc5c3ea8f0b0",
   "metadata": {},
   "source": [
    "### Solution 3"
   ]
  },
  {
   "cell_type": "code",
   "execution_count": 48,
   "id": "804b2292-0ee1-49bd-8956-e66b1f15f828",
   "metadata": {},
   "outputs": [
    {
     "name": "stdout",
     "output_type": "stream",
     "text": [
      "Determinant of the transformation matrix: 2.0\n"
     ]
    }
   ],
   "source": [
    "import numpy as np\n",
    "\n",
    "# The transformation matrix A\n",
    "A = np.array([[1, 2],[0, 2]])\n",
    "\n",
    "# Compute the determinant of A\n",
    "det_A = np.linalg.det(A)\n",
    "\n",
    "# Print the determinant\n",
    "print(\"Determinant of the transformation matrix:\", det_A)"
   ]
  },
  {
   "cell_type": "markdown",
   "id": "b3cee17d-758c-487d-b0e7-2628f6591744",
   "metadata": {},
   "source": [
    "### Exercise 4:\n",
    "Can two or more linear transformations be done in single linear transformation?\n",
    "Why or why not?"
   ]
  },
  {
   "cell_type": "markdown",
   "id": "2618955e-45a1-4d39-9c79-95cfc699c046",
   "metadata": {},
   "source": [
    "### Solution 4"
   ]
  },
  {
   "cell_type": "markdown",
   "id": "0874c334-38e5-4dd4-8d83-58787e7e6f53",
   "metadata": {},
   "source": [
    "Yes, because matrix multiplication makes it possible to merge multiple transformations into a single matrix."
   ]
  },
  {
   "cell_type": "markdown",
   "id": "5d062e60-3bf0-4554-aef7-6a9e61b55f9c",
   "metadata": {},
   "source": [
    "### Exercise 5:\n",
    "Solve the system of equations for $x$, $y$, and $z$:\n",
    "$$\n",
    "\\begin{aligned}\n",
    "    3x + 1y + 0z &= 54 \\\\\n",
    "    2x + 4y + 1z &= 12 \\\\\n",
    "    3x + 1y + 8z &= 6\n",
    "\\end{aligned}\n",
    "$$"
   ]
  },
  {
   "cell_type": "markdown",
   "id": "0eff88c7-8995-4e49-9620-448975ba537c",
   "metadata": {},
   "source": [
    "### Solution 5"
   ]
  },
  {
   "cell_type": "code",
   "execution_count": 63,
   "id": "0c336a0f-6da5-446f-aab2-15a9c8246176",
   "metadata": {},
   "outputs": [
    {
     "name": "stdout",
     "output_type": "stream",
     "text": [
      "[19.8 -5.4 -6. ]\n"
     ]
    }
   ],
   "source": [
    "import numpy as np\n",
    "\n",
    "# Let A and B be\n",
    "A = np.array([[3,1,0],[2,4,1],[3,1,8]])\n",
    "B = np.array([54,12,6])\n",
    "\n",
    "X = np.linalg.solve(A, B)\n",
    "\n",
    "print(X)"
   ]
  },
  {
   "cell_type": "markdown",
   "id": "b03d19b5-9036-4af1-baff-3a903323b561",
   "metadata": {},
   "source": [
    "### Exercise 6:\n",
    "Is the following matrix linearly dependent? Why or why not?\n",
    "\n",
    "$$ \\begin{bmatrix} \n",
    "2 & 1 \\\\ \n",
    "6 & 3 \n",
    "\\end{bmatrix}$$"
   ]
  },
  {
   "cell_type": "markdown",
   "id": "e84aebfa-cc96-4078-b94a-0d39efc054de",
   "metadata": {},
   "source": [
    "### Solution 6"
   ]
  },
  {
   "cell_type": "markdown",
   "id": "9af529b9-3e2b-486e-a767-d20f8a383753",
   "metadata": {},
   "source": [
    "The easiest way is doing it manually since this is a pretty easy matrix to work with. Is a 2x2 matrix, it doesn't get easier than this.\n",
    "\n",
    "For a 2x2 matrix:\n",
    "$$A =  \\begin{bmatrix} \n",
    "a & b \\\\ \n",
    "c & d \n",
    "\\end{bmatrix} \\longrightarrow \\det{(A)} = (a \\cdot d) - (b \\cdot c)$$\n",
    "In this case, \n",
    "$$A =  \\begin{bmatrix} \n",
    "2 & 1 \\\\ \n",
    "6 & 3 \n",
    "\\end{bmatrix} \\longrightarrow \\det{(A)} = (2 \\cdot 3) - (1 \\cdot 6) = 0$$\n",
    "\n",
    "Since $ \\det{(A)}=0 $, the matrix is linearly dependent."
   ]
  },
  {
   "cell_type": "markdown",
   "id": "b3645e5a-3d86-4b73-a1f1-d2c01a978a1a",
   "metadata": {},
   "source": [
    "Solving it:"
   ]
  },
  {
   "cell_type": "code",
   "execution_count": 108,
   "id": "6b871ae1-ba53-4c2a-9076-09d6a66f2a68",
   "metadata": {},
   "outputs": [
    {
     "name": "stdout",
     "output_type": "stream",
     "text": [
      "The determinant is -3.330669073875464e-16 and therefore, the matrix is linearly dependent\n"
     ]
    }
   ],
   "source": [
    "import numpy as np\n",
    "\n",
    "x = np.array([2,6])\n",
    "y = np.array([1,3])\n",
    "\n",
    "z = np.array([x,y]).transpose()\n",
    "\n",
    "det = np.linalg.det(z)\n",
    "\n",
    "if(det != 0):\n",
    "    print(\"The determinant is \" + str(det) + \" and therefore, the matrix is linearly dependent\")\n",
    "else:\n",
    "    print(\"The determinant is zero, and therefore, the matrix is not linearly dependent \")"
   ]
  },
  {
   "cell_type": "markdown",
   "id": "102579b9-f0f5-4240-b840-e9f249b1741c",
   "metadata": {},
   "source": [
    "Another way of doing it is to use the \"isclose\" function. "
   ]
  },
  {
   "cell_type": "code",
   "execution_count": 114,
   "id": "e78bde28-43a2-4551-9b13-e7e6c7b07207",
   "metadata": {},
   "outputs": [
    {
     "name": "stdout",
     "output_type": "stream",
     "text": [
      "Determinant of A: -3.330669073875464e-16\n",
      "The matrix is linearly dependent.\n"
     ]
    }
   ],
   "source": [
    "import numpy as np\n",
    "\n",
    "# Define the matrix\n",
    "A = np.array([[2, 1], [6, 3]])\n",
    "\n",
    "# Compute the determinant\n",
    "det_A = np.linalg.det(A)\n",
    "\n",
    "# Print determinant and conclusion\n",
    "print(\"Determinant of A:\", det_A)\n",
    "if np.isclose(det_A, 0, atol = 1e-10):  # Checking if determinant is close to zero\n",
    "    print(\"The matrix is linearly dependent.\")\n",
    "else:\n",
    "    print(\"The matrix is linearly independent.\")"
   ]
  },
  {
   "cell_type": "markdown",
   "id": "8318c77b-0410-4cde-b806-d2fc93e0b4d4",
   "metadata": {},
   "source": [
    "Just a quick explanation of the \"isclose\" function for all of those who are not computer scientists.\n",
    "\n",
    "The function is defined as: \n",
    "\n",
    "`np.isclose(a, b, rtol=1e-05, atol=1e-08, equal_nan=False)`\n",
    "\n",
    "`a, b` are the values being compared.\n",
    "\n",
    "`rtol` is the relative tolerance, is the maximum allowed relative difference. Is usefull when comparing two numbers that are large.\n",
    "\n",
    "`atol` is the absolute tolerance, is the maximum allowed absolute difference. Is usefull when comparing two numbers that are close to zero. This is our case.\n",
    "\n",
    "`equal_nan` when it's set to True, NaN value are considered equal.\n",
    "\n",
    "The comparison condition is:\n",
    "$$ |a-b| \\leq (atol + rtol \\times |b|) $$\n",
    "\n",
    "When calculating determinants, floating-point errors can cause a number that should be zero to be very small, like 5.55e-10.\n",
    "\n",
    "That happens because of the way computers represent decimal numbers. Computers use binary (base-2) and therefore, some decimal numbers can't be represent exactly in binary thus leading to small rounding errors.\n",
    "\n",
    "The code `print(0.1 + 0.2 == 0.3)` Should print `True` but prints `False`\n",
    "\n",
    "If you want more details about this, Google __IEEE 754 floating-point standard__."
   ]
  },
  {
   "cell_type": "code",
   "execution_count": 124,
   "id": "a0158d24-83b0-4a44-a05a-d392fe8a898a",
   "metadata": {},
   "outputs": [
    {
     "name": "stdout",
     "output_type": "stream",
     "text": [
      "False\n"
     ]
    }
   ],
   "source": [
    "print(0.1 + 0.2 == 0.3)  # I know, we are all skeptics here"
   ]
  }
 ],
 "metadata": {
  "kernelspec": {
   "display_name": "Python [conda env:base] *",
   "language": "python",
   "name": "conda-base-py"
  },
  "language_info": {
   "codemirror_mode": {
    "name": "ipython",
    "version": 3
   },
   "file_extension": ".py",
   "mimetype": "text/x-python",
   "name": "python",
   "nbconvert_exporter": "python",
   "pygments_lexer": "ipython3",
   "version": "3.12.2"
  }
 },
 "nbformat": 4,
 "nbformat_minor": 5
}
