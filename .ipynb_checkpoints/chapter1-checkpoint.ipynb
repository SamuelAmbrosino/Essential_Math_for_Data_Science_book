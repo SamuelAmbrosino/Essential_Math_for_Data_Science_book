{
 "cells": [
  {
   "cell_type": "markdown",
   "metadata": {},
   "source": [
    "# Chapter 1: Basic Math and Calculus Review."
   ]
  },
  {
   "cell_type": "markdown",
   "metadata": {},
   "source": [
    "### Exercise 1: Is the value 62.6738 rational or irrational? Why or why not?"
   ]
  },
  {
   "cell_type": "markdown",
   "metadata": {
    "vscode": {
     "languageId": "plaintext"
    }
   },
   "source": [
    "### Solution 1: 62.6738 is rational because it has a finite number of decimal places, and therefore can be expressed as a fraction 626738 / 10000."
   ]
  },
  {
   "cell_type": "markdown",
   "metadata": {
    "jp-MarkdownHeadingCollapsed": true
   },
   "source": [
    "### Exercise 2: Evaluate the expression $10^7 10^{-5} $"
   ]
  },
  {
   "cell_type": "markdown",
   "metadata": {},
   "source": [
    "### Solution 2: \n",
    "\n",
    "$$10^7 10^{-5} = 10^{7-5} = 10^2 = 100$$"
   ]
  },
  {
   "cell_type": "markdown",
   "metadata": {},
   "source": [
    "### Exercise 3: Evaluate the expression $81^{\\frac{1}{2}}$"
   ]
  },
  {
   "cell_type": "markdown",
   "metadata": {},
   "source": [
    "### Solution 3: \n",
    "\n",
    "$$81^{\\frac{1}{2}} = \\sqrt{81} = 9 $$"
   ]
  },
  {
   "cell_type": "markdown",
   "metadata": {},
   "source": [
    "### Exercise 4: Evaluate the expression $25^{\\frac{3}{2}}$"
   ]
  },
  {
   "cell_type": "markdown",
   "metadata": {},
   "source": [
    "### Solution 4: \n",
    "\n",
    "$$25^{\\frac{3}{2}} = \\left(25^{\\frac{1}{2}}\\right)^3 = \\left(\\sqrt{25} \\right)^3 = 5^3 = 125$$"
   ]
  },
  {
   "cell_type": "markdown",
   "metadata": {},
   "source": [
    "### Exercise 5: Assuming no payments are made, how much would a $1,000 loan be worth at 5% interest compounded monthly after 3 years?"
   ]
  },
  {
   "cell_type": "markdown",
   "metadata": {},
   "source": [
    "### Solution 5: \n"
   ]
  },
  {
   "cell_type": "code",
   "execution_count": null,
   "metadata": {},
   "outputs": [
    {
     "name": "stdout",
     "output_type": "stream",
     "text": [
      "The future value of the loan is $1161.47\n"
     ]
    }
   ],
   "source": [
    "from math import exp\n",
    "\n",
    "pv = 1000 # This is the present value of the loan. The starting amount.\n",
    "r = 0.05 # Yearly interest rate\n",
    "t = 3 # Time in years\n",
    "n = 12 # Months in a year\n",
    "\n",
    "fv = round(pv * (1 + (г/n))**(n *t),2)\n",
    "\n",
    "print(f\"The future value of the loan is ${fv}\")"
   ]
  },
  {
   "cell_type": "markdown",
   "metadata": {},
   "source": [
    "### Exercise 6: Assuming no payments are made, how much would a $1,000 loan be worth at 5% interest compounded continuously after 3 years?"
   ]
  },
  {
   "cell_type": "markdown",
   "metadata": {},
   "source": [
    "### Solution 6: "
   ]
  },
  {
   "cell_type": "code",
   "execution_count": null,
   "metadata": {},
   "outputs": [
    {
     "name": "stdout",
     "output_type": "stream",
     "text": [
      "The future value of the loan is $1161.83\n"
     ]
    }
   ],
   "source": [
    "from math import exp\n",
    "\n",
    "pv = 1000 # This is the present value of the loan. The starting amount.\n",
    "r = 0.05 # Yearly interest rate\n",
    "t = 3 # Time in years\n",
    "\n",
    "fv = round(pv * exp(r*t),2)\n",
    "\n",
    "print(f\"The future value of the loan is ${fv}\")"
   ]
  },
  {
   "cell_type": "markdown",
   "metadata": {},
   "source": [
    "### Exercise 7: For the function $ f(x) = 3x^2 + 1 $ what is the slope at $x = 3$?"
   ]
  },
  {
   "cell_type": "markdown",
   "metadata": {},
   "source": [
    "### Solution 7: "
   ]
  },
  {
   "cell_type": "code",
   "execution_count": 73,
   "metadata": {},
   "outputs": [
    {
     "name": "stdout",
     "output_type": "stream",
     "text": [
      "The symbolic the derivative is 6*x\n",
      "Using the value x=3, we find 18 as the value of the slope\n"
     ]
    }
   ],
   "source": [
    "# We can use the sympy library. Is a library for symbolic mathematics.\n",
    "from sympy import *\n",
    "\n",
    "x = symbols ('x') # Declaration of 'x' in sympy\n",
    "\n",
    "f= 3*x**2 + 1 # The function we need to derivate\n",
    "\n",
    "dx_f = diff(f) # Calculate the derivative of the function\n",
    "\n",
    "print(f\"The symbolic the derivative is {dx_f}\") \n",
    "\n",
    "print(f\"Using the value x=3, we find {dx_f.subs (x,3)} as the value of the slope\") # 18"
   ]
  },
  {
   "cell_type": "markdown",
   "metadata": {},
   "source": [
    "### Exercise 8: For the function $f(x) = 3x^2 + 1$ what is the area under the curve for $x$ between 0 and 2?"
   ]
  },
  {
   "cell_type": "markdown",
   "metadata": {},
   "source": [
    "### Solution 8: "
   ]
  },
  {
   "cell_type": "code",
   "execution_count": 80,
   "metadata": {},
   "outputs": [
    {
     "name": "stdout",
     "output_type": "stream",
     "text": [
      "The area under the curve between 0 and 2 is 10\n"
     ]
    }
   ],
   "source": [
    "# Again, we use the sympy library. \n",
    "from sympy import *\n",
    "\n",
    "x = symbols('x') # Declaration of 'x' in sympy\n",
    "\n",
    "f= 3*x**2 + 1 # The function we need to integrate in order to find the area\n",
    "\n",
    "area = integrate(f, (x, 0, 2)) # Calculate the definite integral between 0 and 2\n",
    "\n",
    "print(f\"The area under the curve between 0 and 2 is {area}\")"
   ]
  },
  {
   "cell_type": "code",
   "execution_count": null,
   "metadata": {},
   "outputs": [],
   "source": []
  }
 ],
 "metadata": {
  "kernelspec": {
   "display_name": "Python [conda env:base] *",
   "language": "python",
   "name": "conda-base-py"
  },
  "language_info": {
   "codemirror_mode": {
    "name": "ipython",
    "version": 3
   },
   "file_extension": ".py",
   "mimetype": "text/x-python",
   "name": "python",
   "nbconvert_exporter": "python",
   "pygments_lexer": "ipython3",
   "version": "3.12.7"
  }
 },
 "nbformat": 4,
 "nbformat_minor": 4
}
