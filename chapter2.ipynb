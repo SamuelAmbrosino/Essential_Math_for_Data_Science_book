{
 "cells": [
  {
   "cell_type": "markdown",
   "metadata": {},
   "source": [
    "### Exercise 1: \n",
    "There is a 30% chance of rain today, and a 40% chance your umbrella order will arrive on time. You are eager to walk in the rain today and cannot do so without either! What is the probability it will rain AND your umbrella will arrive?"
   ]
  },
  {
   "cell_type": "markdown",
   "metadata": {
    "vscode": {
     "languageId": "plaintext"
    }
   },
   "source": [
    "### Solution 1: \n",
    "This is an case of joint probability. \n",
    "$$ \\text{Let } A \\equiv \\text{Rain}$$ \n",
    "$$ \\text{Let } B \\equiv \\text{Umbrella on time}$$\n",
    "$$ P (A \\land B) = P(A) \\times P(B) \\rightarrow P (A \\land B) = 0.3 \\times 0.4 = 0.12 $$\n",
    "So the probability that it will rain and your umbrella will arrive on time is 12%."
   ]
  },
  {
   "cell_type": "markdown",
   "metadata": {},
   "source": [
    "### Exercise 2: \n",
    "There is a 30% chance of rain today, and a 40% chance your umbrella order will arrive on time. You will be able to run errands only if it does not rain or your umbrella arrives. What is the probability it will not rain OR your umbrella arrives?"
   ]
  },
  {
   "cell_type": "markdown",
   "metadata": {},
   "source": [
    "### Solution 2:\n",
    "\n",
    "This is a case of union probability. The exercise ask for \"No rain\" or \"Umbrella arriving on time\". \n",
    "$$ \\text{Let } A \\equiv \\text{Rain}$$ \n",
    "$$ \\text{Let } B \\equiv \\text{Umbrella on time}$$\n",
    "\n",
    "$$ P(A \\lor B) = P(A) + P(B) - P(A \\land B) $$\n",
    "$$ P(¬A \\lor B) = P(¬A) + P(B) - P(¬A \\land B)  = (1 - P(A)) + P(B) - P(¬A \\land B) = (1 - P(A)) + P(B) - (P(¬A) \\times P(B)) = (1 - P(A)) + P(B) - ((1 - P(A)) \\times P(B))$$\n",
    "$$ P(¬A \\lor B) = (1-0.3) + 0.4 - (1-0.3)\\times 0.4 = 0.82 $$\n",
    "\n",
    "So the probability that it will not rain and your umbrella will arrive on time is 82%."
   ]
  },
  {
   "cell_type": "markdown",
   "metadata": {},
   "source": [
    "### Exercise 3:\n",
    "There is a 30% chance of rain today, and a 40% chance your umbrella order will arrive on time. However, you found out if it rains there is only a 20% chance your umbrella will arrive on time. What is the probability it will rain AND your umbrella will arrive on time?"
   ]
  },
  {
   "cell_type": "markdown",
   "metadata": {},
   "source": [
    "### Solution 3:\n",
    "This is a case of conditional probability\n",
    "\n",
    "$$ P(A \\cap B) = P(A) \\times P(A|B) $$\n",
    "\n",
    "$$ \\text{Let } A \\equiv \\text{Rain}$$ \n",
    "$$ \\text{Let } B \\equiv \\text{Umbrella on time given that it rains}$$\n",
    "\n",
    "$$ P(A \\cap B) = 0.3 \\times 0.2 = 0.06 $$\n",
    "\n",
    "So the probability that it rains and the umbrella arrives on time is 6%.\n"
   ]
  },
  {
   "cell_type": "markdown",
   "metadata": {},
   "source": [
    "### Exercise 4:\n",
    "You have 137 passengers booked on a flight from Las Vegas to Dallas. However, it is Las Vegas on a Sunday morning and you estimate each passenger is 40% likely to not show up. You are trying to figure out how many seats to overbook so the plane does not fly empty. How likely is it at least 50 passengers will not show up?"
   ]
  },
  {
   "cell_type": "markdown",
   "metadata": {},
   "source": [
    "### Solution 4: \n",
    "\n",
    "Just as a reminder, the binomial distribution measures how likely __k__ successes can happen out of __n__ trials given __p__ probability.\n",
    "\n",
    "$$ P(X \\geq 50) = 1- P(X \\leq 49)$$\n",
    "\n",
    "Lets solve this using scipy.stats"
   ]
  },
  {
   "cell_type": "code",
   "execution_count": 114,
   "metadata": {},
   "outputs": [
    {
     "name": "stdout",
     "output_type": "stream",
     "text": [
      "Probability that at least 50 passengers will not show up: 0.8221\n"
     ]
    }
   ],
   "source": [
    "import scipy.stats as stats\n",
    "\n",
    "# Given values\n",
    "n = 137  # Total passengers\n",
    "p = 0.40  # Probability a passenger does not show up\n",
    "x = 50  # Passengers threshold\n",
    "\n",
    "# Calculate the probability using the binomial CDF (Cumulative Distribution Function)\n",
    "probability_at_least_50 = 1 - stats.binom.cdf(x - 1, n, p)\n",
    "    \n",
    "# Display the result\n",
    "print(f\"Probability that at least 50 passengers will not show up: {probability_at_least_50:.4f}\")"
   ]
  },
  {
   "cell_type": "markdown",
   "metadata": {},
   "source": [
    "### Exercise 5: You flipped a coin 19 times and got heads 15 times and tails 4 times. Do you think this coin has any good probability of being fair? Why or why not?"
   ]
  },
  {
   "cell_type": "markdown",
   "metadata": {},
   "source": [
    "### Solution 5: \n",
    "\n",
    "This is a case of hyphotesis testing using the binomial distribution. If the coin is fair, the probability of getting heads on any given flip is 0.5.\n",
    "A two-tailed test can be set in place with: \n",
    "\n",
    "* __Null Hypothesis ($H_0$)__: $p = 0.5$, the coin is fair.\n",
    "\n",
    "* __Alternative Hypothesis ($H_a$)__: $p \\neq 0.5$, the coin is biased.\n"
   ]
  },
  {
   "cell_type": "code",
   "execution_count": 141,
   "metadata": {},
   "outputs": [
    {
     "name": "stdout",
     "output_type": "stream",
     "text": [
      "P-value: 0.0192\n",
      "The coin is likely biased (reject the null hypothesis).\n"
     ]
    }
   ],
   "source": [
    "from scipy.stats import binomtest\n",
    "\n",
    "# Given data\n",
    "n = 19  # Total flips\n",
    "k = 15  # Number of heads\n",
    "p_fair = 0.5  # Probability of heads for a fair coin\n",
    "\n",
    "# Perform a two-tailed binomial test\n",
    "test_result = binomtest(k, n, p_fair, alternative='two-sided')\n",
    "\n",
    "# Display the result\n",
    "print(f\"P-value: {test_result.pvalue:.4f}\")\n",
    "\n",
    "# Interpretation\n",
    "alpha = 0.05  # Standard significance level\n",
    "if test_result.pvalue < alpha:\n",
    "    print(\"The coin is likely biased (reject the null hypothesis).\")\n",
    "else:\n",
    "    print(\"The coin is likely fair (fail to reject the null hypothesis).\")"
   ]
  },
  {
   "cell_type": "markdown",
   "metadata": {},
   "source": [
    "### Extra:\n",
    "If the total flips where more or equal to 30, the Central Limit Theorem (CLT) could be applied. Let's say that there were 67 total flips and 43 heads.\n",
    "\n",
    "Again, if the coin is fair, the probability of getting heads on any given flip is 0.5.\n",
    "A two-tailed test can be set in place with: \n",
    "\n",
    "* __Null Hypothesis ($H_0$)__: $p = 0.5$, the coin is fair.\n",
    "\n",
    "* __Alternative Hypothesis ($H_a$)__: $p \\neq 0.5$, the coin is biased.\n"
   ]
  },
  {
   "cell_type": "code",
   "execution_count": 168,
   "metadata": {},
   "outputs": [
    {
     "name": "stdout",
     "output_type": "stream",
     "text": [
      "Observed proportion: 0.6418\n",
      "Expected proportion: 0.5000\n",
      "Standard Error: 0.0611\n",
      "Z-score: 2.3212\n",
      "Critical Z-value: 1.96\n",
      "Conclusion: Since Z_score is greater than Z_crit, we reject the null hypothesis: The coin is likely biased.\n"
     ]
    }
   ],
   "source": [
    "import numpy as np\n",
    "from scipy.stats import norm\n",
    "\n",
    "# Given data\n",
    "n = 67  # Total flips\n",
    "k = 43  # Number of heads\n",
    "p_hat = k / n  # Observed proportion of heads\n",
    "p_0 = 0.5  # Expected proportion under H0\n",
    "\n",
    "# Compute standard error\n",
    "se = np.sqrt(p_0 * (1 - p_0) / n)\n",
    "\n",
    "# Compute test statistic (Z-score)\n",
    "z_score = (p_hat - p_0) / se\n",
    "\n",
    "# Compare to critical Z-value for the confidence interval choosen (two-tailed test).\n",
    "\n",
    "#z_critical = 1.645 # Standard normal critical value for 90% confidence.\n",
    "z_critical = 1.96 # Standard normal critical value for 95% confidence.\n",
    "#z_critical = 2.33 # Standard normal critical value for 98% confidence.\n",
    "#z_critical = 2.576  # Standard normal critical value for 99% confidence.\n",
    "\n",
    "# Decision based on Z-score\n",
    "if abs(z_score) > z_critical:\n",
    "    decision = \"Since Z_score is greater than Z_crit, we reject the null hypothesis: The coin is likely biased.\"\n",
    "else:\n",
    "    decision = \"Since Z_score is lower than Z_crit, we fail to reject the null hypothesis: The coin is likely fair.\"\n",
    "\n",
    "# Display results\n",
    "print(f\"Observed proportion: {p_hat:.4f}\")\n",
    "print(f\"Expected proportion: {p_0:.4f}\")\n",
    "print(f\"Standard Error: {se:.4f}\")\n",
    "print(f\"Z-score: {z_score:.4f}\")\n",
    "print(f\"Critical Z-value: {z_critical}\")\n",
    "print(f\"Conclusion: {decision}\")"
   ]
  }
 ],
 "metadata": {
  "kernelspec": {
   "display_name": "Python [conda env:base] *",
   "language": "python",
   "name": "conda-base-py"
  },
  "language_info": {
   "codemirror_mode": {
    "name": "ipython",
    "version": 3
   },
   "file_extension": ".py",
   "mimetype": "text/x-python",
   "name": "python",
   "nbconvert_exporter": "python",
   "pygments_lexer": "ipython3",
   "version": "3.12.2"
  }
 },
 "nbformat": 4,
 "nbformat_minor": 4
}
