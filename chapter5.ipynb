{
 "cells": [
  {
   "cell_type": "markdown",
   "id": "ad23950a-078e-4f35-ac70-cfa16942422e",
   "metadata": {},
   "source": [
    "### Exercise 1:\n",
    "Perform a simple linear regression to find the $m$ and $b$ values that minimizes the loss (sum of squares)."
   ]
  },
  {
   "cell_type": "markdown",
   "id": "3b1fcd74-929b-45a1-ab48-684926957bdc",
   "metadata": {},
   "source": [
    "### Solution 1"
   ]
  },
  {
   "cell_type": "code",
   "execution_count": 65,
   "id": "0a04dca7-5b07-4544-8f8f-248b4e86f66d",
   "metadata": {},
   "outputs": [
    {
     "name": "stdout",
     "output_type": "stream",
     "text": [
      "m = [1.75919315]\n",
      "b = [4.69359655]\n"
     ]
    },
    {
     "data": {
      "image/png": "[encoded data removed]",
      "text/plain": [
       "<Figure size 640x480 with 1 Axes>"
      ]
     },
     "metadata": {},
     "output_type": "display_data"
    }
   ],
   "source": [
    "import pandas as pd\n",
    "import matplotlib.pyplot as plt\n",
    "from sklearn.linear_model import LinearRegression\n",
    "\n",
    "# Import data from the csv\n",
    "df = pd.read_csv(\"dataset_chapter5.csv\", delimiter=\",\")\n",
    "\n",
    "# We extract variables x & y. Data is from all rows and all columns except the last one.\n",
    "x = df.values[:, :-1]\n",
    "y = df.values[:, -1]\n",
    "\n",
    "# Use LinearRegression to fit a line \n",
    "fit = LinearRegression().fit(x, y)\n",
    "\n",
    "# Compute m & b values\n",
    "m = fit.coef_.flatten()\n",
    "b = fit.intercept_.flatten()\n",
    "print(\"m = {0}\". format(m))\n",
    "print(\"b = {0}\". format(b))\n",
    "\n",
    "# The line\n",
    "y_0 = m*x+b\n",
    "\n",
    "# Plot the results\n",
    "plt.plot(x, y, '.') # Scatterplot\n",
    "plt.plot(x,y_0) # Line\n",
    "plt.show()"
   ]
  },
  {
   "cell_type": "markdown",
   "id": "bc71b931-1aad-400b-8a7f-5ad681addba7",
   "metadata": {
    "jp-MarkdownHeadingCollapsed": true
   },
   "source": [
    "### Exercise 2:\n",
    "Calculate the correlation coefficient and statistical significance of this data (at $95\\%$ confidence). Is the correlation useful?"
   ]
  },
  {
   "cell_type": "markdown",
   "id": "6298580e-a09f-4cbf-b04f-f309d77d60a5",
   "metadata": {},
   "source": [
    "### Solution 2"
   ]
  },
  {
   "cell_type": "code",
   "execution_count": 5,
   "id": "741229cc-43a8-403b-9b59-69a35d0c7984",
   "metadata": {},
   "outputs": [
    {
     "name": "stdout",
     "output_type": "stream",
     "text": [
      "Correlation Matrix:\n",
      "          x        y\n",
      "x  1.00000  0.92421\n",
      "y  0.92421  1.00000\n",
      "\n",
      "Test Statistic: 23.8355\n",
      "Critical Range: (-1.9845, 1.9845)\n",
      "P-Value: 0.0000\n",
      "Correlation is statistically significant, reject H0.\n"
     ]
    }
   ],
   "source": [
    "import pandas as pd\n",
    "import scipy.stats as stats\n",
    "import numpy as np\n",
    "\n",
    "# Load dataset\n",
    "file_path = \"dataset_chapter5.csv\"\n",
    "df = pd.read_csv(file_path)\n",
    "\n",
    "# Compute correlation matrix\n",
    "correlation_matrix = df.corr(method='pearson')\n",
    "print(\"Correlation Matrix:\\n\", correlation_matrix)\n",
    "print(\"\") # Just to have an space in the solution\n",
    "\n",
    "# Extract correlation coefficient for x and y\n",
    "r_value = correlation_matrix.loc[\"y\", \"x\"]\n",
    "n = len(df)\n",
    "\n",
    "def perform_correlation_test(r, n):\n",
    "    \"\"\"Performs a hypothesis test for correlation significance.\"\"\"\n",
    "    # Compute test statistic\n",
    "    test_statistic = r * np.sqrt((n - 2) / (1 - r**2))\n",
    "    \n",
    "    # Determine critical values for 95% confidence interval\n",
    "    lower_critical, upper_critical = stats.t.ppf([0.025, 0.975], df=n-1)\n",
    "    \n",
    "    # Determine p-value (two-tailed test)\n",
    "    p_value = 2 * (1 - stats.t.cdf(abs(test_statistic), df=n-1))\n",
    "    \n",
    "    # Print results\n",
    "    print(f\"Test Statistic: {test_statistic:.4f}\")\n",
    "    print(f\"Critical Range: ({lower_critical:.4f}, {upper_critical:.4f})\")\n",
    "    print(f\"P-Value: {p_value:.4f}\")\n",
    "    \n",
    "    if test_statistic < lower_critical or test_statistic > upper_critical:\n",
    "        print(\"Correlation is statistically significant, reject H0.\")\n",
    "    else:\n",
    "        print(\"Correlation is not statistically significant, fail to reject H0.\")\n",
    "\n",
    "# Perform the correlation test\n",
    "perform_correlation_test(r_value, n)"
   ]
  },
  {
   "cell_type": "markdown",
   "id": "fb2d7338-0a5a-40f2-ad99-4d893cd5a924",
   "metadata": {
    "jp-MarkdownHeadingCollapsed": true
   },
   "source": [
    "### Exercise 3:\n",
    "If I predict where x = 50, what is the 95% prediction interval for the predicted value of y?"
   ]
  },
  {
   "cell_type": "markdown",
   "id": "8880e817-86a2-48f5-8a83-5c26540e7ccf",
   "metadata": {},
   "source": [
    "### Solution 3"
   ]
  },
  {
   "cell_type": "code",
   "execution_count": 7,
   "id": "8ba72135-7110-4ade-9391-07fde4b085f0",
   "metadata": {},
   "outputs": [
    {
     "name": "stdout",
     "output_type": "stream",
     "text": [
      "Prediction Interval: (50.7921, 134.5144)\n"
     ]
    }
   ],
   "source": [
    "import pandas as pd\n",
    "import scipy.stats as stats\n",
    "import numpy as np\n",
    "\n",
    "# Load dataset\n",
    "file_path = \"dataset_chapter5.csv\"\n",
    "df = pd.read_csv(file_path)\n",
    "n = len(df)\n",
    "\n",
    "# Linear regression parameters\n",
    "m = 1.75919315\n",
    "b = 4.69359655\n",
    "\n",
    "# Prediction parameters\n",
    "x_0 = 50\n",
    "x_mean = df[\"x\"].mean()\n",
    "t_value = stats.t.ppf(0.975, df=n-2)\n",
    "\n",
    "# Compute standard error\n",
    "standard_error = np.sqrt(np.sum((df[\"y\"] - (m * df[\"x\"] + b)) ** 2) / (n - 2))\n",
    "\n",
    "# Compute margin of error\n",
    "numerator = n * (x_0 - x_mean) ** 2\n",
    "denominator = n * np.sum(df[\"x\"] ** 2) - np.sum(df[\"x\"]) ** 2\n",
    "margin_of_error = t_value * standard_error * np.sqrt(1 + (1/n) + (numerator / denominator))\n",
    "\n",
    "# Compute predicted y\n",
    "predicted_y = m * x_0 + b\n",
    "\n",
    "# Output prediction interval\n",
    "lower_bound = predicted_y - margin_of_error\n",
    "upper_bound = predicted_y + margin_of_error\n",
    "print(f\"Prediction Interval: ({lower_bound:.4f}, {upper_bound:.4f})\")"
   ]
  },
  {
   "cell_type": "markdown",
   "id": "bde328b3-2485-4e9e-8611-5f065bd89917",
   "metadata": {
    "jp-MarkdownHeadingCollapsed": true
   },
   "source": [
    "### Exercise 4:\n",
    "Start your regression over and do a train/test split. Feel free to experiment with cross-validation and random-fold validation. Does the linear regression perform well and consistently on the testing data? Why or why not?"
   ]
  },
  {
   "cell_type": "markdown",
   "id": "d655bc91-56ed-4a82-a0bc-6239c74f888d",
   "metadata": {},
   "source": [
    "### Solution 4"
   ]
  },
  {
   "cell_type": "code",
   "execution_count": 27,
   "id": "6abb1540-c612-449a-a7f4-881b0fd9f4f6",
   "metadata": {},
   "outputs": [
    {
     "name": "stdout",
     "output_type": "stream",
     "text": [
      "Cross-validation scores: [0.86119665 0.78237719 0.85733887]\n",
      "MSE: mean= 0.834 (stdev=0.036)\n"
     ]
    }
   ],
   "source": [
    "import pandas as pd\n",
    "import scipy.stats as stats\n",
    "import numpy as np\n",
    "from sklearn.linear_model import LinearRegression\n",
    "from sklearn.model_selection import KFold, cross_val_score\n",
    "\n",
    "# Load dataset\n",
    "file_path = \"dataset_chapter5.csv\"\n",
    "df = pd.read_csv(file_path)\n",
    "n = len(df)\n",
    "\n",
    "# Extract input variables (all rows, all columns but last column)\n",
    "x = df.values[:, :-1]\n",
    "# Extract output column (all rows, last column)\n",
    "y = df.values[:, -1]\n",
    "\n",
    "# Compute simple linear regression\n",
    "kfold = KFold(n_splits=3, random_state=7, shuffle=True)\n",
    "model = LinearRegression()\n",
    "results = cross_val_score(model, x, y, cv=kfold)\n",
    "\n",
    "# Output results\n",
    "print(f\"Cross-validation scores: {results}\")\n",
    "print(f\"MSE: mean= {results.mean():.3f} (stdev={results.std():.3f})\")"
   ]
  }
 ],
 "metadata": {
  "kernelspec": {
   "display_name": "Python [conda env:base] *",
   "language": "python",
   "name": "conda-base-py"
  },
  "language_info": {
   "codemirror_mode": {
    "name": "ipython",
    "version": 3
   },
   "file_extension": ".py",
   "mimetype": "text/x-python",
   "name": "python",
   "nbconvert_exporter": "python",
   "pygments_lexer": "ipython3",
   "version": "3.12.2"
  }
 },
 "nbformat": 4,
 "nbformat_minor": 5
}
